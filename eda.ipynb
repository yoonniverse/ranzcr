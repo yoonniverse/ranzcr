{
 "cells": [
  {
   "cell_type": "code",
   "execution_count": 1,
   "metadata": {},
   "outputs": [],
   "source": [
    "import pandas as pd\n",
    "pd.options.display.max_rows = 999\n",
    "pd.options.display.max_columns = 999\n",
    "import numpy as np\n",
    "import cv2\n",
    "import sys\n",
    "import matplotlib.pyplot as plt\n",
    "import seaborn as sns\n",
    "import os\n",
    "import joblib\n",
    "import pickle\n",
    "from utils import flat, trace\n",
    "from tqdm import tqdm\n",
    "import psutil\n",
    "import torch\n",
    "import gc\n",
    "from itertools import product\n",
    "from multiprocessing import Pool\n",
    "from tqdm import tqdm\n",
    "from data import RANZCRDataset\n",
    "from model import RANZCRModel, kaggle_metric\n",
    "from train import CFG\n",
    "from utils import sigmoid\n",
    "import torch.nn.functional as F"
   ]
  },
  {
   "cell_type": "code",
   "execution_count": 8,
   "metadata": {},
   "outputs": [
    {
     "name": "stderr",
     "output_type": "stream",
     "text": [
      "100%|██████████| 112120/112120 [13:58<00:00, 133.77it/s]\n"
     ]
    }
   ],
   "source": [
    "labels = []\n",
    "for fname in tqdm(fnames):\n",
    "    labels.append(joblib.load(os.path.join(base_path, fname))['labels'])"
   ]
  },
  {
   "cell_type": "code",
   "execution_count": 11,
   "metadata": {},
   "outputs": [],
   "source": [
    "labels = np.stack(labels)"
   ]
  },
  {
   "cell_type": "code",
   "execution_count": 13,
   "metadata": {},
   "outputs": [
    {
     "data": {
      "text/plain": [
       "array([0.00097688, 0.01248823, 0.08512216, 0.00394854, 0.00802775,\n",
       "       0.03491928, 0.05094716, 0.07504278, 0.4459039 , 0.4126182 ,\n",
       "       0.00984483], dtype=float32)"
      ]
     },
     "execution_count": 13,
     "metadata": {},
     "output_type": "execute_result"
    }
   ],
   "source": [
    "labels.mean(axis=0)"
   ]
  },
  {
   "cell_type": "code",
   "execution_count": 5,
   "metadata": {},
   "outputs": [
    {
     "name": "stderr",
     "output_type": "stream",
     "text": [
      "100%|██████████| 112120/112120 [01:39<00:00, 1121.77it/s]\n"
     ]
    }
   ],
   "source": [
    "base_path = '../../input/processed/nihchest'\n",
    "fnames = os.listdir(base_path)\n",
    "data_dir = '../../input/nihchest'\n",
    "def save_one_data(fname):\n",
    "    orig_path =os.path.join(base_path, fname)\n",
    "    res = joblib.load(orig_path)\n",
    "    res['img'] = cv2.imread(os.path.join(data_dir, fname[:-2]+'jpg'), cv2.IMREAD_GRAYSCALE)\n",
    "    joblib.dump(res, orig_path, compress=1)\n",
    "with Pool(32) as pool:\n",
    "    list(tqdm(pool.imap_unordered(save_one_data, fnames), total=len(fnames)))"
   ]
  },
  {
   "cell_type": "code",
   "execution_count": 15,
   "metadata": {},
   "outputs": [],
   "source": [
    "base_path = '../../input/nihchest'\n",
    "for f in os.listdir(base_path):\n",
    "    cur = os.path.join(base_path, f)\n",
    "    os.rename(cur, cur[:-3]+'jpg')"
   ]
  },
  {
   "cell_type": "code",
   "execution_count": 2,
   "metadata": {},
   "outputs": [],
   "source": [
    "(features, labels, mask, anchor_dot_contrast, logits, logits_mask, exp_logits, log_prob) = joblib.load('tmp.jl')"
   ]
  },
  {
   "cell_type": "code",
   "execution_count": 16,
   "metadata": {},
   "outputs": [
    {
     "name": "stdout",
     "output_type": "stream",
     "text": [
      "(30083, 12)\n"
     ]
    },
    {
     "data": {
      "text/html": [
       "<div>\n",
       "<style scoped>\n",
       "    .dataframe tbody tr th:only-of-type {\n",
       "        vertical-align: middle;\n",
       "    }\n",
       "\n",
       "    .dataframe tbody tr th {\n",
       "        vertical-align: top;\n",
       "    }\n",
       "\n",
       "    .dataframe thead th {\n",
       "        text-align: right;\n",
       "    }\n",
       "</style>\n",
       "<table border=\"1\" class=\"dataframe\">\n",
       "  <thead>\n",
       "    <tr style=\"text-align: right;\">\n",
       "      <th></th>\n",
       "      <th>ETT - Abnormal</th>\n",
       "      <th>ETT - Borderline</th>\n",
       "      <th>ETT - Normal</th>\n",
       "      <th>NGT - Abnormal</th>\n",
       "      <th>NGT - Borderline</th>\n",
       "      <th>NGT - Incompletely Imaged</th>\n",
       "      <th>NGT - Normal</th>\n",
       "      <th>CVC - Abnormal</th>\n",
       "      <th>CVC - Borderline</th>\n",
       "      <th>CVC - Normal</th>\n",
       "      <th>Swan Ganz Catheter Present</th>\n",
       "      <th>PatientID</th>\n",
       "    </tr>\n",
       "    <tr>\n",
       "      <th>StudyInstanceUID</th>\n",
       "      <th></th>\n",
       "      <th></th>\n",
       "      <th></th>\n",
       "      <th></th>\n",
       "      <th></th>\n",
       "      <th></th>\n",
       "      <th></th>\n",
       "      <th></th>\n",
       "      <th></th>\n",
       "      <th></th>\n",
       "      <th></th>\n",
       "      <th></th>\n",
       "    </tr>\n",
       "  </thead>\n",
       "  <tbody>\n",
       "    <tr>\n",
       "      <th>1.2.826.0.1.3680043.8.498.26697628953273228189375557799582420561</th>\n",
       "      <td>0</td>\n",
       "      <td>0</td>\n",
       "      <td>0</td>\n",
       "      <td>0</td>\n",
       "      <td>0</td>\n",
       "      <td>0</td>\n",
       "      <td>1</td>\n",
       "      <td>0</td>\n",
       "      <td>0</td>\n",
       "      <td>0</td>\n",
       "      <td>0</td>\n",
       "      <td>ec89415d1</td>\n",
       "    </tr>\n",
       "    <tr>\n",
       "      <th>1.2.826.0.1.3680043.8.498.46302891597398758759818628675365157729</th>\n",
       "      <td>0</td>\n",
       "      <td>0</td>\n",
       "      <td>1</td>\n",
       "      <td>0</td>\n",
       "      <td>0</td>\n",
       "      <td>1</td>\n",
       "      <td>0</td>\n",
       "      <td>0</td>\n",
       "      <td>0</td>\n",
       "      <td>1</td>\n",
       "      <td>0</td>\n",
       "      <td>bf4c6da3c</td>\n",
       "    </tr>\n",
       "    <tr>\n",
       "      <th>1.2.826.0.1.3680043.8.498.23819260719748494858948050424870692577</th>\n",
       "      <td>0</td>\n",
       "      <td>0</td>\n",
       "      <td>0</td>\n",
       "      <td>0</td>\n",
       "      <td>0</td>\n",
       "      <td>0</td>\n",
       "      <td>0</td>\n",
       "      <td>0</td>\n",
       "      <td>1</td>\n",
       "      <td>0</td>\n",
       "      <td>0</td>\n",
       "      <td>3fc1c97e5</td>\n",
       "    </tr>\n",
       "    <tr>\n",
       "      <th>1.2.826.0.1.3680043.8.498.68286643202323212801283518367144358744</th>\n",
       "      <td>0</td>\n",
       "      <td>0</td>\n",
       "      <td>0</td>\n",
       "      <td>0</td>\n",
       "      <td>0</td>\n",
       "      <td>0</td>\n",
       "      <td>0</td>\n",
       "      <td>1</td>\n",
       "      <td>0</td>\n",
       "      <td>0</td>\n",
       "      <td>0</td>\n",
       "      <td>c31019814</td>\n",
       "    </tr>\n",
       "    <tr>\n",
       "      <th>1.2.826.0.1.3680043.8.498.10050203009225938259119000528814762175</th>\n",
       "      <td>0</td>\n",
       "      <td>0</td>\n",
       "      <td>0</td>\n",
       "      <td>0</td>\n",
       "      <td>0</td>\n",
       "      <td>0</td>\n",
       "      <td>0</td>\n",
       "      <td>0</td>\n",
       "      <td>0</td>\n",
       "      <td>1</td>\n",
       "      <td>0</td>\n",
       "      <td>207685cd1</td>\n",
       "    </tr>\n",
       "  </tbody>\n",
       "</table>\n",
       "</div>"
      ],
      "text/plain": [
       "                                                    ETT - Abnormal  \\\n",
       "StudyInstanceUID                                                     \n",
       "1.2.826.0.1.3680043.8.498.266976289532732281893...               0   \n",
       "1.2.826.0.1.3680043.8.498.463028915973987587598...               0   \n",
       "1.2.826.0.1.3680043.8.498.238192607197484948589...               0   \n",
       "1.2.826.0.1.3680043.8.498.682866432023232128012...               0   \n",
       "1.2.826.0.1.3680043.8.498.100502030092259382591...               0   \n",
       "\n",
       "                                                    ETT - Borderline  \\\n",
       "StudyInstanceUID                                                       \n",
       "1.2.826.0.1.3680043.8.498.266976289532732281893...                 0   \n",
       "1.2.826.0.1.3680043.8.498.463028915973987587598...                 0   \n",
       "1.2.826.0.1.3680043.8.498.238192607197484948589...                 0   \n",
       "1.2.826.0.1.3680043.8.498.682866432023232128012...                 0   \n",
       "1.2.826.0.1.3680043.8.498.100502030092259382591...                 0   \n",
       "\n",
       "                                                    ETT - Normal  \\\n",
       "StudyInstanceUID                                                   \n",
       "1.2.826.0.1.3680043.8.498.266976289532732281893...             0   \n",
       "1.2.826.0.1.3680043.8.498.463028915973987587598...             1   \n",
       "1.2.826.0.1.3680043.8.498.238192607197484948589...             0   \n",
       "1.2.826.0.1.3680043.8.498.682866432023232128012...             0   \n",
       "1.2.826.0.1.3680043.8.498.100502030092259382591...             0   \n",
       "\n",
       "                                                    NGT - Abnormal  \\\n",
       "StudyInstanceUID                                                     \n",
       "1.2.826.0.1.3680043.8.498.266976289532732281893...               0   \n",
       "1.2.826.0.1.3680043.8.498.463028915973987587598...               0   \n",
       "1.2.826.0.1.3680043.8.498.238192607197484948589...               0   \n",
       "1.2.826.0.1.3680043.8.498.682866432023232128012...               0   \n",
       "1.2.826.0.1.3680043.8.498.100502030092259382591...               0   \n",
       "\n",
       "                                                    NGT - Borderline  \\\n",
       "StudyInstanceUID                                                       \n",
       "1.2.826.0.1.3680043.8.498.266976289532732281893...                 0   \n",
       "1.2.826.0.1.3680043.8.498.463028915973987587598...                 0   \n",
       "1.2.826.0.1.3680043.8.498.238192607197484948589...                 0   \n",
       "1.2.826.0.1.3680043.8.498.682866432023232128012...                 0   \n",
       "1.2.826.0.1.3680043.8.498.100502030092259382591...                 0   \n",
       "\n",
       "                                                    NGT - Incompletely Imaged  \\\n",
       "StudyInstanceUID                                                                \n",
       "1.2.826.0.1.3680043.8.498.266976289532732281893...                          0   \n",
       "1.2.826.0.1.3680043.8.498.463028915973987587598...                          1   \n",
       "1.2.826.0.1.3680043.8.498.238192607197484948589...                          0   \n",
       "1.2.826.0.1.3680043.8.498.682866432023232128012...                          0   \n",
       "1.2.826.0.1.3680043.8.498.100502030092259382591...                          0   \n",
       "\n",
       "                                                    NGT - Normal  \\\n",
       "StudyInstanceUID                                                   \n",
       "1.2.826.0.1.3680043.8.498.266976289532732281893...             1   \n",
       "1.2.826.0.1.3680043.8.498.463028915973987587598...             0   \n",
       "1.2.826.0.1.3680043.8.498.238192607197484948589...             0   \n",
       "1.2.826.0.1.3680043.8.498.682866432023232128012...             0   \n",
       "1.2.826.0.1.3680043.8.498.100502030092259382591...             0   \n",
       "\n",
       "                                                    CVC - Abnormal  \\\n",
       "StudyInstanceUID                                                     \n",
       "1.2.826.0.1.3680043.8.498.266976289532732281893...               0   \n",
       "1.2.826.0.1.3680043.8.498.463028915973987587598...               0   \n",
       "1.2.826.0.1.3680043.8.498.238192607197484948589...               0   \n",
       "1.2.826.0.1.3680043.8.498.682866432023232128012...               1   \n",
       "1.2.826.0.1.3680043.8.498.100502030092259382591...               0   \n",
       "\n",
       "                                                    CVC - Borderline  \\\n",
       "StudyInstanceUID                                                       \n",
       "1.2.826.0.1.3680043.8.498.266976289532732281893...                 0   \n",
       "1.2.826.0.1.3680043.8.498.463028915973987587598...                 0   \n",
       "1.2.826.0.1.3680043.8.498.238192607197484948589...                 1   \n",
       "1.2.826.0.1.3680043.8.498.682866432023232128012...                 0   \n",
       "1.2.826.0.1.3680043.8.498.100502030092259382591...                 0   \n",
       "\n",
       "                                                    CVC - Normal  \\\n",
       "StudyInstanceUID                                                   \n",
       "1.2.826.0.1.3680043.8.498.266976289532732281893...             0   \n",
       "1.2.826.0.1.3680043.8.498.463028915973987587598...             1   \n",
       "1.2.826.0.1.3680043.8.498.238192607197484948589...             0   \n",
       "1.2.826.0.1.3680043.8.498.682866432023232128012...             0   \n",
       "1.2.826.0.1.3680043.8.498.100502030092259382591...             1   \n",
       "\n",
       "                                                    Swan Ganz Catheter Present  \\\n",
       "StudyInstanceUID                                                                 \n",
       "1.2.826.0.1.3680043.8.498.266976289532732281893...                           0   \n",
       "1.2.826.0.1.3680043.8.498.463028915973987587598...                           0   \n",
       "1.2.826.0.1.3680043.8.498.238192607197484948589...                           0   \n",
       "1.2.826.0.1.3680043.8.498.682866432023232128012...                           0   \n",
       "1.2.826.0.1.3680043.8.498.100502030092259382591...                           0   \n",
       "\n",
       "                                                    PatientID  \n",
       "StudyInstanceUID                                               \n",
       "1.2.826.0.1.3680043.8.498.266976289532732281893...  ec89415d1  \n",
       "1.2.826.0.1.3680043.8.498.463028915973987587598...  bf4c6da3c  \n",
       "1.2.826.0.1.3680043.8.498.238192607197484948589...  3fc1c97e5  \n",
       "1.2.826.0.1.3680043.8.498.682866432023232128012...  c31019814  \n",
       "1.2.826.0.1.3680043.8.498.100502030092259382591...  207685cd1  "
      ]
     },
     "metadata": {},
     "output_type": "display_data"
    },
    {
     "name": "stdout",
     "output_type": "stream",
     "text": [
      "(17999, 2)\n"
     ]
    },
    {
     "data": {
      "text/html": [
       "<div>\n",
       "<style scoped>\n",
       "    .dataframe tbody tr th:only-of-type {\n",
       "        vertical-align: middle;\n",
       "    }\n",
       "\n",
       "    .dataframe tbody tr th {\n",
       "        vertical-align: top;\n",
       "    }\n",
       "\n",
       "    .dataframe thead th {\n",
       "        text-align: right;\n",
       "    }\n",
       "</style>\n",
       "<table border=\"1\" class=\"dataframe\">\n",
       "  <thead>\n",
       "    <tr style=\"text-align: right;\">\n",
       "      <th></th>\n",
       "      <th>label</th>\n",
       "      <th>data</th>\n",
       "    </tr>\n",
       "    <tr>\n",
       "      <th>StudyInstanceUID</th>\n",
       "      <th></th>\n",
       "      <th></th>\n",
       "    </tr>\n",
       "  </thead>\n",
       "  <tbody>\n",
       "    <tr>\n",
       "      <th>1.2.826.0.1.3680043.8.498.12616281126973421762775197134528405307</th>\n",
       "      <td>CVC - Normal</td>\n",
       "      <td>[[1487, 1279], [1477, 1168], [1472, 1052], [14...</td>\n",
       "    </tr>\n",
       "    <tr>\n",
       "      <th>1.2.826.0.1.3680043.8.498.12616281126973421762775197134528405307</th>\n",
       "      <td>CVC - Normal</td>\n",
       "      <td>[[1328, 7], [1347, 101], [1383, 193], [1400, 2...</td>\n",
       "    </tr>\n",
       "    <tr>\n",
       "      <th>1.2.826.0.1.3680043.8.498.72921907356394389969069434057117070831</th>\n",
       "      <td>CVC - Borderline</td>\n",
       "      <td>[[801, 1207], [812, 1112], [823, 1023], [842, ...</td>\n",
       "    </tr>\n",
       "    <tr>\n",
       "      <th>1.2.826.0.1.3680043.8.498.11697104485452001927211929869950495038</th>\n",
       "      <td>CVC - Normal</td>\n",
       "      <td>[[1366, 961], [1411, 861], [1453, 751], [1508,...</td>\n",
       "    </tr>\n",
       "    <tr>\n",
       "      <th>1.2.826.0.1.3680043.8.498.87704688663091069148917694611057585294</th>\n",
       "      <td>NGT - Normal</td>\n",
       "      <td>[[1862, 14], [1845, 293], [1801, 869], [1716, ...</td>\n",
       "    </tr>\n",
       "  </tbody>\n",
       "</table>\n",
       "</div>"
      ],
      "text/plain": [
       "                                                               label  \\\n",
       "StudyInstanceUID                                                       \n",
       "1.2.826.0.1.3680043.8.498.126162811269734217627...      CVC - Normal   \n",
       "1.2.826.0.1.3680043.8.498.126162811269734217627...      CVC - Normal   \n",
       "1.2.826.0.1.3680043.8.498.729219073563943899690...  CVC - Borderline   \n",
       "1.2.826.0.1.3680043.8.498.116971044854520019272...      CVC - Normal   \n",
       "1.2.826.0.1.3680043.8.498.877046886630910691489...      NGT - Normal   \n",
       "\n",
       "                                                                                                 data  \n",
       "StudyInstanceUID                                                                                       \n",
       "1.2.826.0.1.3680043.8.498.126162811269734217627...  [[1487, 1279], [1477, 1168], [1472, 1052], [14...  \n",
       "1.2.826.0.1.3680043.8.498.126162811269734217627...  [[1328, 7], [1347, 101], [1383, 193], [1400, 2...  \n",
       "1.2.826.0.1.3680043.8.498.729219073563943899690...  [[801, 1207], [812, 1112], [823, 1023], [842, ...  \n",
       "1.2.826.0.1.3680043.8.498.116971044854520019272...  [[1366, 961], [1411, 861], [1453, 751], [1508,...  \n",
       "1.2.826.0.1.3680043.8.498.877046886630910691489...  [[1862, 14], [1845, 293], [1801, 869], [1716, ...  "
      ]
     },
     "metadata": {},
     "output_type": "display_data"
    }
   ],
   "source": [
    "train = pd.read_csv('../../input/kaggle/train.csv', index_col='StudyInstanceUID')\n",
    "train_annotations = pd.read_csv('../../input/kaggle/train_annotations.csv', index_col='StudyInstanceUID')\n",
    "sample_submission = pd.read_csv('../../input/kaggle/sample_submission.csv')\n",
    "uids = train.index\n",
    "folds = joblib.load('folds.jl')\n",
    "label_cols = [\n",
    "    'ETT - Abnormal', 'ETT - Borderline', 'ETT - Normal', 'NGT - Abnormal', 'NGT - Borderline',\n",
    "    'NGT - Incompletely Imaged', 'NGT - Normal', 'CVC - Abnormal', 'CVC - Borderline', 'CVC - Normal',\n",
    "    'Swan Ganz Catheter Present'\n",
    "]\n",
    "img_path = '../../input/kaggle/train'\n",
    "train_annotations['data'] = train_annotations['data'].apply(eval)\n",
    "print(train.shape)\n",
    "display(train.head())\n",
    "print(train_annotations.shape)\n",
    "display(train_annotations.head())"
   ]
  },
  {
   "cell_type": "code",
   "execution_count": 69,
   "metadata": {},
   "outputs": [
    {
     "data": {
      "text/plain": [
       "{'img': array([[ 71,  76, 102, ...,  98,  73,  66],\n",
       "        [ 86,  94, 124, ..., 127,  98,  89],\n",
       "        [134, 145, 180, ..., 176, 141, 130],\n",
       "        ...,\n",
       "        [104, 113, 146, ...,  60,  47,  42],\n",
       "        [ 72,  78, 107, ...,  41,  30,  27],\n",
       "        [ 56,  60,  85, ...,  32,  22,  21]], dtype=uint8),\n",
       " 'labels': array([0, 0, 0, 0, 0, 0, 0, 0, 0, 1, 0]),\n",
       " 'masks': [array([[0, 0, 0, ..., 0, 0, 0],\n",
       "         [0, 0, 0, ..., 0, 0, 0],\n",
       "         [0, 0, 0, ..., 0, 0, 0],\n",
       "         ...,\n",
       "         [0, 0, 0, ..., 0, 0, 0],\n",
       "         [0, 0, 0, ..., 0, 0, 0],\n",
       "         [0, 0, 0, ..., 0, 0, 0]], dtype=int8)],\n",
       " 'tips': [[1393, 1008]],\n",
       " 'annotated': 1,\n",
       " 'mask_exist_index': [9]}"
      ]
     },
     "execution_count": 69,
     "metadata": {},
     "output_type": "execute_result"
    }
   ],
   "source": [
    "uid = '1.2.826.0.1.3680043.8.498.93053605340693492468203536922883055634'\n",
    "joblib.load(f'../../input/processed/data/{uid}.jl')"
   ]
  },
  {
   "cell_type": "code",
   "execution_count": 79,
   "metadata": {},
   "outputs": [
    {
     "name": "stdout",
     "output_type": "stream",
     "text": [
      "dict_keys(['img', 'labels', 'masks', 'tips', 'annotated', 'mask_exist_index'])\n",
      "[1487, 1279]\n"
     ]
    },
    {
     "data": {
      "image/png": "[encoded data removed]",
      "text/plain": [
       "<Figure size 432x288 with 1 Axes>"
      ]
     },
     "metadata": {
      "needs_background": "light"
     },
     "output_type": "display_data"
    },
    {
     "name": "stdout",
     "output_type": "stream",
     "text": [
      "[1457, 1006]\n"
     ]
    },
    {
     "data": {
      "image/png": "[encoded data removed]",
      "text/plain": [
       "<Figure size 432x288 with 1 Axes>"
      ]
     },
     "metadata": {
      "needs_background": "light"
     },
     "output_type": "display_data"
    }
   ],
   "source": [
    "uid = train_annotations.index[0]\n",
    "cur = joblib.load(f'../../input/processed/data/{uid}.jl')\n",
    "print(cur.keys())\n",
    "for mask, tips in zip(cur['masks'], cur['tips']):\n",
    "    if mask.sum() != 0:\n",
    "        print(tips)\n",
    "        plt.imshow(mask.astype(float))\n",
    "        plt.plot(tips, markersize=100)\n",
    "        plt.show()"
   ]
  },
  {
   "cell_type": "code",
   "execution_count": 4,
   "metadata": {},
   "outputs": [
    {
     "data": {
      "image/png": "[encoded data removed]",
      "text/plain": [
       "<Figure size 432x288 with 1 Axes>"
      ]
     },
     "metadata": {
      "needs_background": "light"
     },
     "output_type": "display_data"
    }
   ],
   "source": [
    "uid = '1.2.826.0.1.3680043.8.498.93053605340693492468203536922883055634'\n",
    "img = cv2.imread(os.path.join(img_path, f'{uid}.jpg'))\n",
    "img = cv2.cvtColor(img, cv2.COLOR_BGR2GRAY)\n",
    "masks = train_annotations.loc[[uid], 'data'].tolist()\n",
    "fig = plt.figure()\n",
    "plt.imshow(img, cmap='gray', vmin=0, vmax=255)\n",
    "for mask in masks:\n",
    "    mask = np.array(mask)\n",
    "    plt.plot(mask[:, 0], mask[:, 1])"
   ]
  },
  {
   "cell_type": "code",
   "execution_count": 27,
   "metadata": {},
   "outputs": [
    {
     "name": "stderr",
     "output_type": "stream",
     "text": [
      "100%|██████████| 30083/30083 [00:28<00:00, 1044.22it/s]\n"
     ]
    }
   ],
   "source": [
    "def process(uid):\n",
    "    img = joblib.load(f'../../input/processed/data/{uid}.jl')['img']\n",
    "    return (img[50:100, 50:100].mean()+img[50:100, -100:-50].mean())/2\n",
    "with Pool(32) as pool:\n",
    "    res = list(tqdm(pool.imap(process, uids), total=len(uids)))\n",
    "res = pd.Series(res, index=uids).sort_values(ascending=False)\n",
    "for uid in res.index[:10]:\n",
    "    img = joblib.load(f'../../input/processed/data/{uid}.jl')['img']\n",
    "    plt.imshow(img, cmap='gray')\n",
    "    plt.show()"
   ]
  },
  {
   "cell_type": "code",
   "execution_count": 58,
   "metadata": {},
   "outputs": [
    {
     "name": "stdout",
     "output_type": "stream",
     "text": [
      "0    21626\n",
      "1     8457\n",
      "dtype: int64\n",
      "0    21775\n",
      "1     8263\n",
      "2       45\n",
      "dtype: int64\n",
      "1    25758\n",
      "2     3504\n",
      "0      750\n",
      "3       71\n",
      "dtype: int64\n"
     ]
    }
   ],
   "source": [
    "ett = [x for x in label_cols if x.startswith('ETT')]\n",
    "print(train[ett].sum(axis=1).value_counts())\n",
    "ngt = [x for x in label_cols if x.startswith('NGT')]\n",
    "print(train[ngt].sum(axis=1).value_counts())\n",
    "cvc = [x for x in label_cols if x.startswith('CVC')]\n",
    "print(train[cvc].sum(axis=1).value_counts())"
   ]
  },
  {
   "cell_type": "code",
   "execution_count": null,
   "metadata": {},
   "outputs": [],
   "source": [
    "model = torch.load('../../model/v11/2048-b5/last.pth', map_location='cpu')\n",
    "model = RANZCRModel(CFG(model['cfg']))\n",
    "model.keys()"
   ]
  }
 ],
 "metadata": {
  "kernelspec": {
   "display_name": "Python 3",
   "language": "python",
   "name": "python3"
  },
  "language_info": {
   "codemirror_mode": {
    "name": "ipython",
    "version": 3
   },
   "file_extension": ".py",
   "mimetype": "text/x-python",
   "name": "python",
   "nbconvert_exporter": "python",
   "pygments_lexer": "ipython3",
   "version": "3.8.5"
  }
 },
 "nbformat": 4,
 "nbformat_minor": 4
}
