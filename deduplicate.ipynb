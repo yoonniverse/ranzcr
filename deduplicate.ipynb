{
 "cells": [
  {
   "cell_type": "code",
   "execution_count": 1,
   "metadata": {},
   "outputs": [],
   "source": [
    "from imagededup.methods import PHash\n",
    "phasher = PHash()"
   ]
  },
  {
   "cell_type": "code",
   "execution_count": 2,
   "metadata": {},
   "outputs": [
    {
     "name": "stderr",
     "output_type": "stream",
     "text": [
      "2021-02-25 10:18:21,116: INFO Start: Calculating hashes...\n",
      "100%|██████████| 30083/30083 [01:50<00:00, 273.11it/s]\n",
      "2021-02-25 10:20:11,811: INFO End: Calculating hashes!\n",
      "2021-02-25 10:20:13,116: INFO Start: Calculating hashes...\n",
      "100%|██████████| 112120/112120 [00:57<00:00, 1938.20it/s]\n",
      "2021-02-25 10:21:11,633: INFO End: Calculating hashes!\n"
     ]
    }
   ],
   "source": [
    "train_encodings = phasher.encode_images(image_dir='../../input/kaggle/train')\n",
    "nihchest_encodings = phasher.encode_images(image_dir='../../input/nihchest')"
   ]
  },
  {
   "cell_type": "code",
   "execution_count": 6,
   "metadata": {},
   "outputs": [
    {
     "data": {
      "text/plain": [
       "142203"
      ]
     },
     "execution_count": 6,
     "metadata": {},
     "output_type": "execute_result"
    }
   ],
   "source": [
    "encodings = {}\n",
    "encodings.update(train_encodings)\n",
    "encodings.update(nihchest_encodings)\n",
    "len(encodings)"
   ]
  },
  {
   "cell_type": "code",
   "execution_count": null,
   "metadata": {},
   "outputs": [
    {
     "name": "stderr",
     "output_type": "stream",
     "text": [
      "2021-02-25 10:27:41,983: INFO Start: Evaluating hamming distances for getting duplicates\n",
      "2021-02-25 10:27:41,984: INFO Start: Retrieving duplicates using Cython Brute force algorithm\n",
      " 15%|█▍        | 20701/142203 [02:30<12:16, 164.94it/s]Process ForkPoolWorker-476:\n"
     ]
    }
   ],
   "source": [
    "duplicates = phasher.find_duplicates(encoding_map=encodings, max_distance_threshold=20)\n",
    "len(duplicates)"
   ]
  }
 ],
 "metadata": {
  "kernelspec": {
   "display_name": "Python 3",
   "language": "python",
   "name": "python3"
  },
  "language_info": {
   "codemirror_mode": {
    "name": "ipython",
    "version": 3
   },
   "file_extension": ".py",
   "mimetype": "text/x-python",
   "name": "python",
   "nbconvert_exporter": "python",
   "pygments_lexer": "ipython3",
   "version": "3.8.5"
  }
 },
 "nbformat": 4,
 "nbformat_minor": 4
}
